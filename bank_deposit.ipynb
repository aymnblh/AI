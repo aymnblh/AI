{
  "nbformat": 4,
  "nbformat_minor": 0,
  "metadata": {
    "colab": {
      "name": "bank_deposit.ipynb",
      "provenance": [],
      "collapsed_sections": [],
      "authorship_tag": "ABX9TyOqXe1JIkiRsQVBr1m7ifOC"
    },
    "kernelspec": {
      "name": "python3",
      "display_name": "Python 3"
    },
    "language_info": {
      "name": "python"
    }
  },
  "cells": [
    {
      "cell_type": "markdown",
      "source": [
        "The dataset gives you information about a marketing campaign of a financial institution in which you will have to analyze in order to find ways to look for future strategies in order to improve future marketing campaigns for the bank."
      ],
      "metadata": {
        "id": "B3uLQO2ovzKB"
      }
    },
    {
      "cell_type": "code",
      "source": [
        "A1. bank client data:\n",
        "1 - age: (numeric)\n",
        "2 - job: type of job (categorical: 'admin.','blue-collar','entrepreneur','housemaid','management','retired','self-employed','services','student','technician','unemployed','unknown')\n",
        "3 - marital: marital status (categorical: 'divorced','married','single','unknown'; note: 'divorced' means divorced or widowed)\n",
        "4 - education: (categorical: primary, secondary, tertiary and unknown)\n",
        "5 - default: has credit in default? (categorical: 'no','yes','unknown')\n",
        "6 - housing: has housing loan? (categorical: 'no','yes','unknown')\n",
        "7 - loan: has personal loan? (categorical: 'no','yes','unknown')\n",
        "8 - balance: Balance of the individual.\n",
        "\n",
        "A2. Related with the last contact of the current campaign:\n",
        "8 - contact: contact communication type (categorical: 'cellular','telephone')\n",
        "9 - month: last contact month of year (categorical: 'jan', 'feb', 'mar', ..., 'nov', 'dec')\n",
        "10 - day: last contact day of the week (categorical: 'mon','tue','wed','thu','fri')\n",
        "11 - duration: last contact duration, in seconds (numeric). Important note: this attribute highly affects the output target (e.g., if duration=0 then y='no'). Yet, the duration is not known before a call is performed. Also, after the end of the call y is obviously known. Thus, this input should only be included for benchmark purposes and should be discarded if the intention is to have a realistic predictive model.\n",
        "\n",
        "A3. other attributes:\n",
        "12 - campaign: number of contacts performed during this campaign and for this client (numeric, includes last contact)\n",
        "13 - pdays: number of days that passed by after the client was last contacted from a previous campaign (numeric; 999 means client was not previously contacted)\n",
        "14 - previous: number of contacts performed before this campaign and for this client (numeric)\n",
        "15 - poutcome: outcome of the previous marketing campaign (categorical: 'failure','nonexistent','success')\n",
        "\n",
        "Output variable (desired target):\n",
        "21 - deposit - has the client subscribed a term deposit? (binary: 'yes','no')"
      ],
      "metadata": {
        "id": "yPcAWeliwfgt"
      },
      "execution_count": null,
      "outputs": []
    },
    {
      "cell_type": "markdown",
      "source": [
        "A Term deposit is a deposit that a bank or a financial institurion offers with a fixed rate (often better than just opening deposit account) in which your money will be returned back at a specific maturity time. For more information with regards to Term Deposits please click on this link from Investopedia: https://www.investopedia.com/terms/t/termdeposit.asp"
      ],
      "metadata": {
        "id": "fvRg3-epwL-1"
      }
    },
    {
      "cell_type": "code",
      "metadata": {
        "id": "Y52u3itlaLy4"
      },
      "source": [
        "import numpy as np\n",
        "import pandas as pd \n",
        "import matplotlib.pyplot as plt\n",
        "import seaborn as sns"
      ],
      "execution_count": null,
      "outputs": []
    },
    {
      "cell_type": "code",
      "metadata": {
        "colab": {
          "base_uri": "https://localhost:8080/",
          "height": 226
        },
        "id": "q14dN_5TcaSP",
        "outputId": "09a9a48b-8d71-4903-86ca-0ca88ee4f35a"
      },
      "source": [
        "data=pd.read_csv(\"/content/bank.csv\",sep = ',')\n",
        "data.head()"
      ],
      "execution_count": null,
      "outputs": [
        {
          "output_type": "execute_result",
          "data": {
            "text/html": [
              "<div>\n",
              "<style scoped>\n",
              "    .dataframe tbody tr th:only-of-type {\n",
              "        vertical-align: middle;\n",
              "    }\n",
              "\n",
              "    .dataframe tbody tr th {\n",
              "        vertical-align: top;\n",
              "    }\n",
              "\n",
              "    .dataframe thead th {\n",
              "        text-align: right;\n",
              "    }\n",
              "</style>\n",
              "<table border=\"1\" class=\"dataframe\">\n",
              "  <thead>\n",
              "    <tr style=\"text-align: right;\">\n",
              "      <th></th>\n",
              "      <th>age</th>\n",
              "      <th>job</th>\n",
              "      <th>marital</th>\n",
              "      <th>education</th>\n",
              "      <th>default</th>\n",
              "      <th>balance</th>\n",
              "      <th>housing</th>\n",
              "      <th>loan</th>\n",
              "      <th>contact</th>\n",
              "      <th>day</th>\n",
              "      <th>month</th>\n",
              "      <th>duration</th>\n",
              "      <th>campaign</th>\n",
              "      <th>pdays</th>\n",
              "      <th>previous</th>\n",
              "      <th>poutcome</th>\n",
              "      <th>deposit</th>\n",
              "    </tr>\n",
              "  </thead>\n",
              "  <tbody>\n",
              "    <tr>\n",
              "      <th>0</th>\n",
              "      <td>59</td>\n",
              "      <td>admin.</td>\n",
              "      <td>married</td>\n",
              "      <td>secondary</td>\n",
              "      <td>no</td>\n",
              "      <td>2343</td>\n",
              "      <td>yes</td>\n",
              "      <td>no</td>\n",
              "      <td>unknown</td>\n",
              "      <td>5</td>\n",
              "      <td>may</td>\n",
              "      <td>1042</td>\n",
              "      <td>1</td>\n",
              "      <td>-1</td>\n",
              "      <td>0</td>\n",
              "      <td>unknown</td>\n",
              "      <td>yes</td>\n",
              "    </tr>\n",
              "    <tr>\n",
              "      <th>1</th>\n",
              "      <td>56</td>\n",
              "      <td>admin.</td>\n",
              "      <td>married</td>\n",
              "      <td>secondary</td>\n",
              "      <td>no</td>\n",
              "      <td>45</td>\n",
              "      <td>no</td>\n",
              "      <td>no</td>\n",
              "      <td>unknown</td>\n",
              "      <td>5</td>\n",
              "      <td>may</td>\n",
              "      <td>1467</td>\n",
              "      <td>1</td>\n",
              "      <td>-1</td>\n",
              "      <td>0</td>\n",
              "      <td>unknown</td>\n",
              "      <td>yes</td>\n",
              "    </tr>\n",
              "    <tr>\n",
              "      <th>2</th>\n",
              "      <td>41</td>\n",
              "      <td>technician</td>\n",
              "      <td>married</td>\n",
              "      <td>secondary</td>\n",
              "      <td>no</td>\n",
              "      <td>1270</td>\n",
              "      <td>yes</td>\n",
              "      <td>no</td>\n",
              "      <td>unknown</td>\n",
              "      <td>5</td>\n",
              "      <td>may</td>\n",
              "      <td>1389</td>\n",
              "      <td>1</td>\n",
              "      <td>-1</td>\n",
              "      <td>0</td>\n",
              "      <td>unknown</td>\n",
              "      <td>yes</td>\n",
              "    </tr>\n",
              "    <tr>\n",
              "      <th>3</th>\n",
              "      <td>55</td>\n",
              "      <td>services</td>\n",
              "      <td>married</td>\n",
              "      <td>secondary</td>\n",
              "      <td>no</td>\n",
              "      <td>2476</td>\n",
              "      <td>yes</td>\n",
              "      <td>no</td>\n",
              "      <td>unknown</td>\n",
              "      <td>5</td>\n",
              "      <td>may</td>\n",
              "      <td>579</td>\n",
              "      <td>1</td>\n",
              "      <td>-1</td>\n",
              "      <td>0</td>\n",
              "      <td>unknown</td>\n",
              "      <td>yes</td>\n",
              "    </tr>\n",
              "    <tr>\n",
              "      <th>4</th>\n",
              "      <td>54</td>\n",
              "      <td>admin.</td>\n",
              "      <td>married</td>\n",
              "      <td>tertiary</td>\n",
              "      <td>no</td>\n",
              "      <td>184</td>\n",
              "      <td>no</td>\n",
              "      <td>no</td>\n",
              "      <td>unknown</td>\n",
              "      <td>5</td>\n",
              "      <td>may</td>\n",
              "      <td>673</td>\n",
              "      <td>2</td>\n",
              "      <td>-1</td>\n",
              "      <td>0</td>\n",
              "      <td>unknown</td>\n",
              "      <td>yes</td>\n",
              "    </tr>\n",
              "  </tbody>\n",
              "</table>\n",
              "</div>"
            ],
            "text/plain": [
              "   age         job  marital  education  ... pdays  previous poutcome deposit\n",
              "0   59      admin.  married  secondary  ...    -1         0  unknown     yes\n",
              "1   56      admin.  married  secondary  ...    -1         0  unknown     yes\n",
              "2   41  technician  married  secondary  ...    -1         0  unknown     yes\n",
              "3   55    services  married  secondary  ...    -1         0  unknown     yes\n",
              "4   54      admin.  married   tertiary  ...    -1         0  unknown     yes\n",
              "\n",
              "[5 rows x 17 columns]"
            ]
          },
          "metadata": {},
          "execution_count": 30
        }
      ]
    },
    {
      "cell_type": "code",
      "metadata": {
        "colab": {
          "base_uri": "https://localhost:8080/"
        },
        "id": "sPqQIsiNShXK",
        "outputId": "dfd9f8c1-c732-4853-91ac-6df28228514a"
      },
      "source": [
        "data.info()"
      ],
      "execution_count": null,
      "outputs": [
        {
          "output_type": "stream",
          "name": "stdout",
          "text": [
            "<class 'pandas.core.frame.DataFrame'>\n",
            "RangeIndex: 11162 entries, 0 to 11161\n",
            "Data columns (total 17 columns):\n",
            " #   Column     Non-Null Count  Dtype \n",
            "---  ------     --------------  ----- \n",
            " 0   age        11162 non-null  int64 \n",
            " 1   job        11162 non-null  object\n",
            " 2   marital    11162 non-null  object\n",
            " 3   education  11162 non-null  object\n",
            " 4   default    11162 non-null  object\n",
            " 5   balance    11162 non-null  int64 \n",
            " 6   housing    11162 non-null  object\n",
            " 7   loan       11162 non-null  object\n",
            " 8   contact    11162 non-null  object\n",
            " 9   day        11162 non-null  int64 \n",
            " 10  month      11162 non-null  object\n",
            " 11  duration   11162 non-null  int64 \n",
            " 12  campaign   11162 non-null  int64 \n",
            " 13  pdays      11162 non-null  int64 \n",
            " 14  previous   11162 non-null  int64 \n",
            " 15  poutcome   11162 non-null  object\n",
            " 16  deposit    11162 non-null  object\n",
            "dtypes: int64(7), object(10)\n",
            "memory usage: 1.4+ MB\n"
          ]
        }
      ]
    },
    {
      "cell_type": "code",
      "metadata": {
        "colab": {
          "base_uri": "https://localhost:8080/",
          "height": 300
        },
        "id": "KGBLBUx5Sqib",
        "outputId": "2f121d24-a105-4296-bff2-43f0565c8be2"
      },
      "source": [
        "data.describe()"
      ],
      "execution_count": null,
      "outputs": [
        {
          "output_type": "execute_result",
          "data": {
            "text/html": [
              "<div>\n",
              "<style scoped>\n",
              "    .dataframe tbody tr th:only-of-type {\n",
              "        vertical-align: middle;\n",
              "    }\n",
              "\n",
              "    .dataframe tbody tr th {\n",
              "        vertical-align: top;\n",
              "    }\n",
              "\n",
              "    .dataframe thead th {\n",
              "        text-align: right;\n",
              "    }\n",
              "</style>\n",
              "<table border=\"1\" class=\"dataframe\">\n",
              "  <thead>\n",
              "    <tr style=\"text-align: right;\">\n",
              "      <th></th>\n",
              "      <th>age</th>\n",
              "      <th>balance</th>\n",
              "      <th>day</th>\n",
              "      <th>duration</th>\n",
              "      <th>campaign</th>\n",
              "      <th>pdays</th>\n",
              "      <th>previous</th>\n",
              "    </tr>\n",
              "  </thead>\n",
              "  <tbody>\n",
              "    <tr>\n",
              "      <th>count</th>\n",
              "      <td>11162.000000</td>\n",
              "      <td>11162.000000</td>\n",
              "      <td>11162.000000</td>\n",
              "      <td>11162.000000</td>\n",
              "      <td>11162.000000</td>\n",
              "      <td>11162.000000</td>\n",
              "      <td>11162.000000</td>\n",
              "    </tr>\n",
              "    <tr>\n",
              "      <th>mean</th>\n",
              "      <td>41.231948</td>\n",
              "      <td>1528.538524</td>\n",
              "      <td>15.658036</td>\n",
              "      <td>371.993818</td>\n",
              "      <td>2.508421</td>\n",
              "      <td>51.330407</td>\n",
              "      <td>0.832557</td>\n",
              "    </tr>\n",
              "    <tr>\n",
              "      <th>std</th>\n",
              "      <td>11.913369</td>\n",
              "      <td>3225.413326</td>\n",
              "      <td>8.420740</td>\n",
              "      <td>347.128386</td>\n",
              "      <td>2.722077</td>\n",
              "      <td>108.758282</td>\n",
              "      <td>2.292007</td>\n",
              "    </tr>\n",
              "    <tr>\n",
              "      <th>min</th>\n",
              "      <td>18.000000</td>\n",
              "      <td>-6847.000000</td>\n",
              "      <td>1.000000</td>\n",
              "      <td>2.000000</td>\n",
              "      <td>1.000000</td>\n",
              "      <td>-1.000000</td>\n",
              "      <td>0.000000</td>\n",
              "    </tr>\n",
              "    <tr>\n",
              "      <th>25%</th>\n",
              "      <td>32.000000</td>\n",
              "      <td>122.000000</td>\n",
              "      <td>8.000000</td>\n",
              "      <td>138.000000</td>\n",
              "      <td>1.000000</td>\n",
              "      <td>-1.000000</td>\n",
              "      <td>0.000000</td>\n",
              "    </tr>\n",
              "    <tr>\n",
              "      <th>50%</th>\n",
              "      <td>39.000000</td>\n",
              "      <td>550.000000</td>\n",
              "      <td>15.000000</td>\n",
              "      <td>255.000000</td>\n",
              "      <td>2.000000</td>\n",
              "      <td>-1.000000</td>\n",
              "      <td>0.000000</td>\n",
              "    </tr>\n",
              "    <tr>\n",
              "      <th>75%</th>\n",
              "      <td>49.000000</td>\n",
              "      <td>1708.000000</td>\n",
              "      <td>22.000000</td>\n",
              "      <td>496.000000</td>\n",
              "      <td>3.000000</td>\n",
              "      <td>20.750000</td>\n",
              "      <td>1.000000</td>\n",
              "    </tr>\n",
              "    <tr>\n",
              "      <th>max</th>\n",
              "      <td>95.000000</td>\n",
              "      <td>81204.000000</td>\n",
              "      <td>31.000000</td>\n",
              "      <td>3881.000000</td>\n",
              "      <td>63.000000</td>\n",
              "      <td>854.000000</td>\n",
              "      <td>58.000000</td>\n",
              "    </tr>\n",
              "  </tbody>\n",
              "</table>\n",
              "</div>"
            ],
            "text/plain": [
              "                age       balance  ...         pdays      previous\n",
              "count  11162.000000  11162.000000  ...  11162.000000  11162.000000\n",
              "mean      41.231948   1528.538524  ...     51.330407      0.832557\n",
              "std       11.913369   3225.413326  ...    108.758282      2.292007\n",
              "min       18.000000  -6847.000000  ...     -1.000000      0.000000\n",
              "25%       32.000000    122.000000  ...     -1.000000      0.000000\n",
              "50%       39.000000    550.000000  ...     -1.000000      0.000000\n",
              "75%       49.000000   1708.000000  ...     20.750000      1.000000\n",
              "max       95.000000  81204.000000  ...    854.000000     58.000000\n",
              "\n",
              "[8 rows x 7 columns]"
            ]
          },
          "metadata": {},
          "execution_count": 32
        }
      ]
    },
    {
      "cell_type": "code",
      "metadata": {
        "colab": {
          "base_uri": "https://localhost:8080/",
          "height": 697
        },
        "id": "R-IWGt_BS6hv",
        "outputId": "aea8107d-a4f8-4b8a-a5af-e59f01cba3d4"
      },
      "source": [
        "data.deposit.replace(('yes', 'no'), (1, 0), inplace=True)\n",
        "data.loan.replace(('yes', 'no'), (1, 0), inplace=True)\n",
        "data.default.replace(('yes', 'no'), (1, 0), inplace=True)\n",
        "data.housing.replace(('yes', 'no'), (1, 0), inplace=True)\n",
        "data.head(20)"
      ],
      "execution_count": null,
      "outputs": [
        {
          "output_type": "execute_result",
          "data": {
            "text/html": [
              "<div>\n",
              "<style scoped>\n",
              "    .dataframe tbody tr th:only-of-type {\n",
              "        vertical-align: middle;\n",
              "    }\n",
              "\n",
              "    .dataframe tbody tr th {\n",
              "        vertical-align: top;\n",
              "    }\n",
              "\n",
              "    .dataframe thead th {\n",
              "        text-align: right;\n",
              "    }\n",
              "</style>\n",
              "<table border=\"1\" class=\"dataframe\">\n",
              "  <thead>\n",
              "    <tr style=\"text-align: right;\">\n",
              "      <th></th>\n",
              "      <th>age</th>\n",
              "      <th>job</th>\n",
              "      <th>marital</th>\n",
              "      <th>education</th>\n",
              "      <th>default</th>\n",
              "      <th>balance</th>\n",
              "      <th>housing</th>\n",
              "      <th>loan</th>\n",
              "      <th>contact</th>\n",
              "      <th>day</th>\n",
              "      <th>month</th>\n",
              "      <th>duration</th>\n",
              "      <th>campaign</th>\n",
              "      <th>pdays</th>\n",
              "      <th>previous</th>\n",
              "      <th>poutcome</th>\n",
              "      <th>deposit</th>\n",
              "    </tr>\n",
              "  </thead>\n",
              "  <tbody>\n",
              "    <tr>\n",
              "      <th>0</th>\n",
              "      <td>59</td>\n",
              "      <td>admin.</td>\n",
              "      <td>married</td>\n",
              "      <td>secondary</td>\n",
              "      <td>0</td>\n",
              "      <td>2343</td>\n",
              "      <td>1</td>\n",
              "      <td>0</td>\n",
              "      <td>unknown</td>\n",
              "      <td>5</td>\n",
              "      <td>may</td>\n",
              "      <td>1042</td>\n",
              "      <td>1</td>\n",
              "      <td>-1</td>\n",
              "      <td>0</td>\n",
              "      <td>unknown</td>\n",
              "      <td>1</td>\n",
              "    </tr>\n",
              "    <tr>\n",
              "      <th>1</th>\n",
              "      <td>56</td>\n",
              "      <td>admin.</td>\n",
              "      <td>married</td>\n",
              "      <td>secondary</td>\n",
              "      <td>0</td>\n",
              "      <td>45</td>\n",
              "      <td>0</td>\n",
              "      <td>0</td>\n",
              "      <td>unknown</td>\n",
              "      <td>5</td>\n",
              "      <td>may</td>\n",
              "      <td>1467</td>\n",
              "      <td>1</td>\n",
              "      <td>-1</td>\n",
              "      <td>0</td>\n",
              "      <td>unknown</td>\n",
              "      <td>1</td>\n",
              "    </tr>\n",
              "    <tr>\n",
              "      <th>2</th>\n",
              "      <td>41</td>\n",
              "      <td>technician</td>\n",
              "      <td>married</td>\n",
              "      <td>secondary</td>\n",
              "      <td>0</td>\n",
              "      <td>1270</td>\n",
              "      <td>1</td>\n",
              "      <td>0</td>\n",
              "      <td>unknown</td>\n",
              "      <td>5</td>\n",
              "      <td>may</td>\n",
              "      <td>1389</td>\n",
              "      <td>1</td>\n",
              "      <td>-1</td>\n",
              "      <td>0</td>\n",
              "      <td>unknown</td>\n",
              "      <td>1</td>\n",
              "    </tr>\n",
              "    <tr>\n",
              "      <th>3</th>\n",
              "      <td>55</td>\n",
              "      <td>services</td>\n",
              "      <td>married</td>\n",
              "      <td>secondary</td>\n",
              "      <td>0</td>\n",
              "      <td>2476</td>\n",
              "      <td>1</td>\n",
              "      <td>0</td>\n",
              "      <td>unknown</td>\n",
              "      <td>5</td>\n",
              "      <td>may</td>\n",
              "      <td>579</td>\n",
              "      <td>1</td>\n",
              "      <td>-1</td>\n",
              "      <td>0</td>\n",
              "      <td>unknown</td>\n",
              "      <td>1</td>\n",
              "    </tr>\n",
              "    <tr>\n",
              "      <th>4</th>\n",
              "      <td>54</td>\n",
              "      <td>admin.</td>\n",
              "      <td>married</td>\n",
              "      <td>tertiary</td>\n",
              "      <td>0</td>\n",
              "      <td>184</td>\n",
              "      <td>0</td>\n",
              "      <td>0</td>\n",
              "      <td>unknown</td>\n",
              "      <td>5</td>\n",
              "      <td>may</td>\n",
              "      <td>673</td>\n",
              "      <td>2</td>\n",
              "      <td>-1</td>\n",
              "      <td>0</td>\n",
              "      <td>unknown</td>\n",
              "      <td>1</td>\n",
              "    </tr>\n",
              "    <tr>\n",
              "      <th>5</th>\n",
              "      <td>42</td>\n",
              "      <td>management</td>\n",
              "      <td>single</td>\n",
              "      <td>tertiary</td>\n",
              "      <td>0</td>\n",
              "      <td>0</td>\n",
              "      <td>1</td>\n",
              "      <td>1</td>\n",
              "      <td>unknown</td>\n",
              "      <td>5</td>\n",
              "      <td>may</td>\n",
              "      <td>562</td>\n",
              "      <td>2</td>\n",
              "      <td>-1</td>\n",
              "      <td>0</td>\n",
              "      <td>unknown</td>\n",
              "      <td>1</td>\n",
              "    </tr>\n",
              "    <tr>\n",
              "      <th>6</th>\n",
              "      <td>56</td>\n",
              "      <td>management</td>\n",
              "      <td>married</td>\n",
              "      <td>tertiary</td>\n",
              "      <td>0</td>\n",
              "      <td>830</td>\n",
              "      <td>1</td>\n",
              "      <td>1</td>\n",
              "      <td>unknown</td>\n",
              "      <td>6</td>\n",
              "      <td>may</td>\n",
              "      <td>1201</td>\n",
              "      <td>1</td>\n",
              "      <td>-1</td>\n",
              "      <td>0</td>\n",
              "      <td>unknown</td>\n",
              "      <td>1</td>\n",
              "    </tr>\n",
              "    <tr>\n",
              "      <th>7</th>\n",
              "      <td>60</td>\n",
              "      <td>retired</td>\n",
              "      <td>divorced</td>\n",
              "      <td>secondary</td>\n",
              "      <td>0</td>\n",
              "      <td>545</td>\n",
              "      <td>1</td>\n",
              "      <td>0</td>\n",
              "      <td>unknown</td>\n",
              "      <td>6</td>\n",
              "      <td>may</td>\n",
              "      <td>1030</td>\n",
              "      <td>1</td>\n",
              "      <td>-1</td>\n",
              "      <td>0</td>\n",
              "      <td>unknown</td>\n",
              "      <td>1</td>\n",
              "    </tr>\n",
              "    <tr>\n",
              "      <th>8</th>\n",
              "      <td>37</td>\n",
              "      <td>technician</td>\n",
              "      <td>married</td>\n",
              "      <td>secondary</td>\n",
              "      <td>0</td>\n",
              "      <td>1</td>\n",
              "      <td>1</td>\n",
              "      <td>0</td>\n",
              "      <td>unknown</td>\n",
              "      <td>6</td>\n",
              "      <td>may</td>\n",
              "      <td>608</td>\n",
              "      <td>1</td>\n",
              "      <td>-1</td>\n",
              "      <td>0</td>\n",
              "      <td>unknown</td>\n",
              "      <td>1</td>\n",
              "    </tr>\n",
              "    <tr>\n",
              "      <th>9</th>\n",
              "      <td>28</td>\n",
              "      <td>services</td>\n",
              "      <td>single</td>\n",
              "      <td>secondary</td>\n",
              "      <td>0</td>\n",
              "      <td>5090</td>\n",
              "      <td>1</td>\n",
              "      <td>0</td>\n",
              "      <td>unknown</td>\n",
              "      <td>6</td>\n",
              "      <td>may</td>\n",
              "      <td>1297</td>\n",
              "      <td>3</td>\n",
              "      <td>-1</td>\n",
              "      <td>0</td>\n",
              "      <td>unknown</td>\n",
              "      <td>1</td>\n",
              "    </tr>\n",
              "    <tr>\n",
              "      <th>10</th>\n",
              "      <td>38</td>\n",
              "      <td>admin.</td>\n",
              "      <td>single</td>\n",
              "      <td>secondary</td>\n",
              "      <td>0</td>\n",
              "      <td>100</td>\n",
              "      <td>1</td>\n",
              "      <td>0</td>\n",
              "      <td>unknown</td>\n",
              "      <td>7</td>\n",
              "      <td>may</td>\n",
              "      <td>786</td>\n",
              "      <td>1</td>\n",
              "      <td>-1</td>\n",
              "      <td>0</td>\n",
              "      <td>unknown</td>\n",
              "      <td>1</td>\n",
              "    </tr>\n",
              "    <tr>\n",
              "      <th>11</th>\n",
              "      <td>30</td>\n",
              "      <td>blue-collar</td>\n",
              "      <td>married</td>\n",
              "      <td>secondary</td>\n",
              "      <td>0</td>\n",
              "      <td>309</td>\n",
              "      <td>1</td>\n",
              "      <td>0</td>\n",
              "      <td>unknown</td>\n",
              "      <td>7</td>\n",
              "      <td>may</td>\n",
              "      <td>1574</td>\n",
              "      <td>2</td>\n",
              "      <td>-1</td>\n",
              "      <td>0</td>\n",
              "      <td>unknown</td>\n",
              "      <td>1</td>\n",
              "    </tr>\n",
              "    <tr>\n",
              "      <th>12</th>\n",
              "      <td>29</td>\n",
              "      <td>management</td>\n",
              "      <td>married</td>\n",
              "      <td>tertiary</td>\n",
              "      <td>0</td>\n",
              "      <td>199</td>\n",
              "      <td>1</td>\n",
              "      <td>1</td>\n",
              "      <td>unknown</td>\n",
              "      <td>7</td>\n",
              "      <td>may</td>\n",
              "      <td>1689</td>\n",
              "      <td>4</td>\n",
              "      <td>-1</td>\n",
              "      <td>0</td>\n",
              "      <td>unknown</td>\n",
              "      <td>1</td>\n",
              "    </tr>\n",
              "    <tr>\n",
              "      <th>13</th>\n",
              "      <td>46</td>\n",
              "      <td>blue-collar</td>\n",
              "      <td>single</td>\n",
              "      <td>tertiary</td>\n",
              "      <td>0</td>\n",
              "      <td>460</td>\n",
              "      <td>1</td>\n",
              "      <td>0</td>\n",
              "      <td>unknown</td>\n",
              "      <td>7</td>\n",
              "      <td>may</td>\n",
              "      <td>1102</td>\n",
              "      <td>2</td>\n",
              "      <td>-1</td>\n",
              "      <td>0</td>\n",
              "      <td>unknown</td>\n",
              "      <td>1</td>\n",
              "    </tr>\n",
              "    <tr>\n",
              "      <th>14</th>\n",
              "      <td>31</td>\n",
              "      <td>technician</td>\n",
              "      <td>single</td>\n",
              "      <td>tertiary</td>\n",
              "      <td>0</td>\n",
              "      <td>703</td>\n",
              "      <td>1</td>\n",
              "      <td>0</td>\n",
              "      <td>unknown</td>\n",
              "      <td>8</td>\n",
              "      <td>may</td>\n",
              "      <td>943</td>\n",
              "      <td>2</td>\n",
              "      <td>-1</td>\n",
              "      <td>0</td>\n",
              "      <td>unknown</td>\n",
              "      <td>1</td>\n",
              "    </tr>\n",
              "    <tr>\n",
              "      <th>15</th>\n",
              "      <td>35</td>\n",
              "      <td>management</td>\n",
              "      <td>divorced</td>\n",
              "      <td>tertiary</td>\n",
              "      <td>0</td>\n",
              "      <td>3837</td>\n",
              "      <td>1</td>\n",
              "      <td>0</td>\n",
              "      <td>unknown</td>\n",
              "      <td>8</td>\n",
              "      <td>may</td>\n",
              "      <td>1084</td>\n",
              "      <td>1</td>\n",
              "      <td>-1</td>\n",
              "      <td>0</td>\n",
              "      <td>unknown</td>\n",
              "      <td>1</td>\n",
              "    </tr>\n",
              "    <tr>\n",
              "      <th>16</th>\n",
              "      <td>32</td>\n",
              "      <td>blue-collar</td>\n",
              "      <td>single</td>\n",
              "      <td>primary</td>\n",
              "      <td>0</td>\n",
              "      <td>611</td>\n",
              "      <td>1</td>\n",
              "      <td>0</td>\n",
              "      <td>unknown</td>\n",
              "      <td>8</td>\n",
              "      <td>may</td>\n",
              "      <td>541</td>\n",
              "      <td>3</td>\n",
              "      <td>-1</td>\n",
              "      <td>0</td>\n",
              "      <td>unknown</td>\n",
              "      <td>1</td>\n",
              "    </tr>\n",
              "    <tr>\n",
              "      <th>17</th>\n",
              "      <td>49</td>\n",
              "      <td>services</td>\n",
              "      <td>married</td>\n",
              "      <td>secondary</td>\n",
              "      <td>0</td>\n",
              "      <td>-8</td>\n",
              "      <td>1</td>\n",
              "      <td>0</td>\n",
              "      <td>unknown</td>\n",
              "      <td>8</td>\n",
              "      <td>may</td>\n",
              "      <td>1119</td>\n",
              "      <td>1</td>\n",
              "      <td>-1</td>\n",
              "      <td>0</td>\n",
              "      <td>unknown</td>\n",
              "      <td>1</td>\n",
              "    </tr>\n",
              "    <tr>\n",
              "      <th>18</th>\n",
              "      <td>41</td>\n",
              "      <td>admin.</td>\n",
              "      <td>married</td>\n",
              "      <td>secondary</td>\n",
              "      <td>0</td>\n",
              "      <td>55</td>\n",
              "      <td>1</td>\n",
              "      <td>0</td>\n",
              "      <td>unknown</td>\n",
              "      <td>8</td>\n",
              "      <td>may</td>\n",
              "      <td>1120</td>\n",
              "      <td>2</td>\n",
              "      <td>-1</td>\n",
              "      <td>0</td>\n",
              "      <td>unknown</td>\n",
              "      <td>1</td>\n",
              "    </tr>\n",
              "    <tr>\n",
              "      <th>19</th>\n",
              "      <td>49</td>\n",
              "      <td>admin.</td>\n",
              "      <td>divorced</td>\n",
              "      <td>secondary</td>\n",
              "      <td>0</td>\n",
              "      <td>168</td>\n",
              "      <td>1</td>\n",
              "      <td>1</td>\n",
              "      <td>unknown</td>\n",
              "      <td>8</td>\n",
              "      <td>may</td>\n",
              "      <td>513</td>\n",
              "      <td>1</td>\n",
              "      <td>-1</td>\n",
              "      <td>0</td>\n",
              "      <td>unknown</td>\n",
              "      <td>1</td>\n",
              "    </tr>\n",
              "  </tbody>\n",
              "</table>\n",
              "</div>"
            ],
            "text/plain": [
              "    age          job   marital  education  ...  pdays  previous  poutcome  deposit\n",
              "0    59       admin.   married  secondary  ...     -1         0   unknown        1\n",
              "1    56       admin.   married  secondary  ...     -1         0   unknown        1\n",
              "2    41   technician   married  secondary  ...     -1         0   unknown        1\n",
              "3    55     services   married  secondary  ...     -1         0   unknown        1\n",
              "4    54       admin.   married   tertiary  ...     -1         0   unknown        1\n",
              "5    42   management    single   tertiary  ...     -1         0   unknown        1\n",
              "6    56   management   married   tertiary  ...     -1         0   unknown        1\n",
              "7    60      retired  divorced  secondary  ...     -1         0   unknown        1\n",
              "8    37   technician   married  secondary  ...     -1         0   unknown        1\n",
              "9    28     services    single  secondary  ...     -1         0   unknown        1\n",
              "10   38       admin.    single  secondary  ...     -1         0   unknown        1\n",
              "11   30  blue-collar   married  secondary  ...     -1         0   unknown        1\n",
              "12   29   management   married   tertiary  ...     -1         0   unknown        1\n",
              "13   46  blue-collar    single   tertiary  ...     -1         0   unknown        1\n",
              "14   31   technician    single   tertiary  ...     -1         0   unknown        1\n",
              "15   35   management  divorced   tertiary  ...     -1         0   unknown        1\n",
              "16   32  blue-collar    single    primary  ...     -1         0   unknown        1\n",
              "17   49     services   married  secondary  ...     -1         0   unknown        1\n",
              "18   41       admin.   married  secondary  ...     -1         0   unknown        1\n",
              "19   49       admin.  divorced  secondary  ...     -1         0   unknown        1\n",
              "\n",
              "[20 rows x 17 columns]"
            ]
          },
          "metadata": {},
          "execution_count": 33
        }
      ]
    },
    {
      "cell_type": "code",
      "metadata": {
        "colab": {
          "base_uri": "https://localhost:8080/",
          "height": 697
        },
        "id": "y9Lm32pWTwjk",
        "outputId": "e7213920-d5d8-43a2-9215-573b3a19d275"
      },
      "source": [
        "data.marital.replace(('single', 'married','divorced'), (0, 1,2), inplace=True)\n",
        "data.head(20)"
      ],
      "execution_count": null,
      "outputs": [
        {
          "output_type": "execute_result",
          "data": {
            "text/html": [
              "<div>\n",
              "<style scoped>\n",
              "    .dataframe tbody tr th:only-of-type {\n",
              "        vertical-align: middle;\n",
              "    }\n",
              "\n",
              "    .dataframe tbody tr th {\n",
              "        vertical-align: top;\n",
              "    }\n",
              "\n",
              "    .dataframe thead th {\n",
              "        text-align: right;\n",
              "    }\n",
              "</style>\n",
              "<table border=\"1\" class=\"dataframe\">\n",
              "  <thead>\n",
              "    <tr style=\"text-align: right;\">\n",
              "      <th></th>\n",
              "      <th>age</th>\n",
              "      <th>job</th>\n",
              "      <th>marital</th>\n",
              "      <th>education</th>\n",
              "      <th>default</th>\n",
              "      <th>balance</th>\n",
              "      <th>housing</th>\n",
              "      <th>loan</th>\n",
              "      <th>contact</th>\n",
              "      <th>day</th>\n",
              "      <th>month</th>\n",
              "      <th>duration</th>\n",
              "      <th>campaign</th>\n",
              "      <th>pdays</th>\n",
              "      <th>previous</th>\n",
              "      <th>poutcome</th>\n",
              "      <th>deposit</th>\n",
              "    </tr>\n",
              "  </thead>\n",
              "  <tbody>\n",
              "    <tr>\n",
              "      <th>0</th>\n",
              "      <td>59</td>\n",
              "      <td>admin.</td>\n",
              "      <td>1</td>\n",
              "      <td>secondary</td>\n",
              "      <td>0</td>\n",
              "      <td>2343</td>\n",
              "      <td>1</td>\n",
              "      <td>0</td>\n",
              "      <td>unknown</td>\n",
              "      <td>5</td>\n",
              "      <td>may</td>\n",
              "      <td>1042</td>\n",
              "      <td>1</td>\n",
              "      <td>-1</td>\n",
              "      <td>0</td>\n",
              "      <td>unknown</td>\n",
              "      <td>1</td>\n",
              "    </tr>\n",
              "    <tr>\n",
              "      <th>1</th>\n",
              "      <td>56</td>\n",
              "      <td>admin.</td>\n",
              "      <td>1</td>\n",
              "      <td>secondary</td>\n",
              "      <td>0</td>\n",
              "      <td>45</td>\n",
              "      <td>0</td>\n",
              "      <td>0</td>\n",
              "      <td>unknown</td>\n",
              "      <td>5</td>\n",
              "      <td>may</td>\n",
              "      <td>1467</td>\n",
              "      <td>1</td>\n",
              "      <td>-1</td>\n",
              "      <td>0</td>\n",
              "      <td>unknown</td>\n",
              "      <td>1</td>\n",
              "    </tr>\n",
              "    <tr>\n",
              "      <th>2</th>\n",
              "      <td>41</td>\n",
              "      <td>technician</td>\n",
              "      <td>1</td>\n",
              "      <td>secondary</td>\n",
              "      <td>0</td>\n",
              "      <td>1270</td>\n",
              "      <td>1</td>\n",
              "      <td>0</td>\n",
              "      <td>unknown</td>\n",
              "      <td>5</td>\n",
              "      <td>may</td>\n",
              "      <td>1389</td>\n",
              "      <td>1</td>\n",
              "      <td>-1</td>\n",
              "      <td>0</td>\n",
              "      <td>unknown</td>\n",
              "      <td>1</td>\n",
              "    </tr>\n",
              "    <tr>\n",
              "      <th>3</th>\n",
              "      <td>55</td>\n",
              "      <td>services</td>\n",
              "      <td>1</td>\n",
              "      <td>secondary</td>\n",
              "      <td>0</td>\n",
              "      <td>2476</td>\n",
              "      <td>1</td>\n",
              "      <td>0</td>\n",
              "      <td>unknown</td>\n",
              "      <td>5</td>\n",
              "      <td>may</td>\n",
              "      <td>579</td>\n",
              "      <td>1</td>\n",
              "      <td>-1</td>\n",
              "      <td>0</td>\n",
              "      <td>unknown</td>\n",
              "      <td>1</td>\n",
              "    </tr>\n",
              "    <tr>\n",
              "      <th>4</th>\n",
              "      <td>54</td>\n",
              "      <td>admin.</td>\n",
              "      <td>1</td>\n",
              "      <td>tertiary</td>\n",
              "      <td>0</td>\n",
              "      <td>184</td>\n",
              "      <td>0</td>\n",
              "      <td>0</td>\n",
              "      <td>unknown</td>\n",
              "      <td>5</td>\n",
              "      <td>may</td>\n",
              "      <td>673</td>\n",
              "      <td>2</td>\n",
              "      <td>-1</td>\n",
              "      <td>0</td>\n",
              "      <td>unknown</td>\n",
              "      <td>1</td>\n",
              "    </tr>\n",
              "    <tr>\n",
              "      <th>5</th>\n",
              "      <td>42</td>\n",
              "      <td>management</td>\n",
              "      <td>0</td>\n",
              "      <td>tertiary</td>\n",
              "      <td>0</td>\n",
              "      <td>0</td>\n",
              "      <td>1</td>\n",
              "      <td>1</td>\n",
              "      <td>unknown</td>\n",
              "      <td>5</td>\n",
              "      <td>may</td>\n",
              "      <td>562</td>\n",
              "      <td>2</td>\n",
              "      <td>-1</td>\n",
              "      <td>0</td>\n",
              "      <td>unknown</td>\n",
              "      <td>1</td>\n",
              "    </tr>\n",
              "    <tr>\n",
              "      <th>6</th>\n",
              "      <td>56</td>\n",
              "      <td>management</td>\n",
              "      <td>1</td>\n",
              "      <td>tertiary</td>\n",
              "      <td>0</td>\n",
              "      <td>830</td>\n",
              "      <td>1</td>\n",
              "      <td>1</td>\n",
              "      <td>unknown</td>\n",
              "      <td>6</td>\n",
              "      <td>may</td>\n",
              "      <td>1201</td>\n",
              "      <td>1</td>\n",
              "      <td>-1</td>\n",
              "      <td>0</td>\n",
              "      <td>unknown</td>\n",
              "      <td>1</td>\n",
              "    </tr>\n",
              "    <tr>\n",
              "      <th>7</th>\n",
              "      <td>60</td>\n",
              "      <td>retired</td>\n",
              "      <td>2</td>\n",
              "      <td>secondary</td>\n",
              "      <td>0</td>\n",
              "      <td>545</td>\n",
              "      <td>1</td>\n",
              "      <td>0</td>\n",
              "      <td>unknown</td>\n",
              "      <td>6</td>\n",
              "      <td>may</td>\n",
              "      <td>1030</td>\n",
              "      <td>1</td>\n",
              "      <td>-1</td>\n",
              "      <td>0</td>\n",
              "      <td>unknown</td>\n",
              "      <td>1</td>\n",
              "    </tr>\n",
              "    <tr>\n",
              "      <th>8</th>\n",
              "      <td>37</td>\n",
              "      <td>technician</td>\n",
              "      <td>1</td>\n",
              "      <td>secondary</td>\n",
              "      <td>0</td>\n",
              "      <td>1</td>\n",
              "      <td>1</td>\n",
              "      <td>0</td>\n",
              "      <td>unknown</td>\n",
              "      <td>6</td>\n",
              "      <td>may</td>\n",
              "      <td>608</td>\n",
              "      <td>1</td>\n",
              "      <td>-1</td>\n",
              "      <td>0</td>\n",
              "      <td>unknown</td>\n",
              "      <td>1</td>\n",
              "    </tr>\n",
              "    <tr>\n",
              "      <th>9</th>\n",
              "      <td>28</td>\n",
              "      <td>services</td>\n",
              "      <td>0</td>\n",
              "      <td>secondary</td>\n",
              "      <td>0</td>\n",
              "      <td>5090</td>\n",
              "      <td>1</td>\n",
              "      <td>0</td>\n",
              "      <td>unknown</td>\n",
              "      <td>6</td>\n",
              "      <td>may</td>\n",
              "      <td>1297</td>\n",
              "      <td>3</td>\n",
              "      <td>-1</td>\n",
              "      <td>0</td>\n",
              "      <td>unknown</td>\n",
              "      <td>1</td>\n",
              "    </tr>\n",
              "    <tr>\n",
              "      <th>10</th>\n",
              "      <td>38</td>\n",
              "      <td>admin.</td>\n",
              "      <td>0</td>\n",
              "      <td>secondary</td>\n",
              "      <td>0</td>\n",
              "      <td>100</td>\n",
              "      <td>1</td>\n",
              "      <td>0</td>\n",
              "      <td>unknown</td>\n",
              "      <td>7</td>\n",
              "      <td>may</td>\n",
              "      <td>786</td>\n",
              "      <td>1</td>\n",
              "      <td>-1</td>\n",
              "      <td>0</td>\n",
              "      <td>unknown</td>\n",
              "      <td>1</td>\n",
              "    </tr>\n",
              "    <tr>\n",
              "      <th>11</th>\n",
              "      <td>30</td>\n",
              "      <td>blue-collar</td>\n",
              "      <td>1</td>\n",
              "      <td>secondary</td>\n",
              "      <td>0</td>\n",
              "      <td>309</td>\n",
              "      <td>1</td>\n",
              "      <td>0</td>\n",
              "      <td>unknown</td>\n",
              "      <td>7</td>\n",
              "      <td>may</td>\n",
              "      <td>1574</td>\n",
              "      <td>2</td>\n",
              "      <td>-1</td>\n",
              "      <td>0</td>\n",
              "      <td>unknown</td>\n",
              "      <td>1</td>\n",
              "    </tr>\n",
              "    <tr>\n",
              "      <th>12</th>\n",
              "      <td>29</td>\n",
              "      <td>management</td>\n",
              "      <td>1</td>\n",
              "      <td>tertiary</td>\n",
              "      <td>0</td>\n",
              "      <td>199</td>\n",
              "      <td>1</td>\n",
              "      <td>1</td>\n",
              "      <td>unknown</td>\n",
              "      <td>7</td>\n",
              "      <td>may</td>\n",
              "      <td>1689</td>\n",
              "      <td>4</td>\n",
              "      <td>-1</td>\n",
              "      <td>0</td>\n",
              "      <td>unknown</td>\n",
              "      <td>1</td>\n",
              "    </tr>\n",
              "    <tr>\n",
              "      <th>13</th>\n",
              "      <td>46</td>\n",
              "      <td>blue-collar</td>\n",
              "      <td>0</td>\n",
              "      <td>tertiary</td>\n",
              "      <td>0</td>\n",
              "      <td>460</td>\n",
              "      <td>1</td>\n",
              "      <td>0</td>\n",
              "      <td>unknown</td>\n",
              "      <td>7</td>\n",
              "      <td>may</td>\n",
              "      <td>1102</td>\n",
              "      <td>2</td>\n",
              "      <td>-1</td>\n",
              "      <td>0</td>\n",
              "      <td>unknown</td>\n",
              "      <td>1</td>\n",
              "    </tr>\n",
              "    <tr>\n",
              "      <th>14</th>\n",
              "      <td>31</td>\n",
              "      <td>technician</td>\n",
              "      <td>0</td>\n",
              "      <td>tertiary</td>\n",
              "      <td>0</td>\n",
              "      <td>703</td>\n",
              "      <td>1</td>\n",
              "      <td>0</td>\n",
              "      <td>unknown</td>\n",
              "      <td>8</td>\n",
              "      <td>may</td>\n",
              "      <td>943</td>\n",
              "      <td>2</td>\n",
              "      <td>-1</td>\n",
              "      <td>0</td>\n",
              "      <td>unknown</td>\n",
              "      <td>1</td>\n",
              "    </tr>\n",
              "    <tr>\n",
              "      <th>15</th>\n",
              "      <td>35</td>\n",
              "      <td>management</td>\n",
              "      <td>2</td>\n",
              "      <td>tertiary</td>\n",
              "      <td>0</td>\n",
              "      <td>3837</td>\n",
              "      <td>1</td>\n",
              "      <td>0</td>\n",
              "      <td>unknown</td>\n",
              "      <td>8</td>\n",
              "      <td>may</td>\n",
              "      <td>1084</td>\n",
              "      <td>1</td>\n",
              "      <td>-1</td>\n",
              "      <td>0</td>\n",
              "      <td>unknown</td>\n",
              "      <td>1</td>\n",
              "    </tr>\n",
              "    <tr>\n",
              "      <th>16</th>\n",
              "      <td>32</td>\n",
              "      <td>blue-collar</td>\n",
              "      <td>0</td>\n",
              "      <td>primary</td>\n",
              "      <td>0</td>\n",
              "      <td>611</td>\n",
              "      <td>1</td>\n",
              "      <td>0</td>\n",
              "      <td>unknown</td>\n",
              "      <td>8</td>\n",
              "      <td>may</td>\n",
              "      <td>541</td>\n",
              "      <td>3</td>\n",
              "      <td>-1</td>\n",
              "      <td>0</td>\n",
              "      <td>unknown</td>\n",
              "      <td>1</td>\n",
              "    </tr>\n",
              "    <tr>\n",
              "      <th>17</th>\n",
              "      <td>49</td>\n",
              "      <td>services</td>\n",
              "      <td>1</td>\n",
              "      <td>secondary</td>\n",
              "      <td>0</td>\n",
              "      <td>-8</td>\n",
              "      <td>1</td>\n",
              "      <td>0</td>\n",
              "      <td>unknown</td>\n",
              "      <td>8</td>\n",
              "      <td>may</td>\n",
              "      <td>1119</td>\n",
              "      <td>1</td>\n",
              "      <td>-1</td>\n",
              "      <td>0</td>\n",
              "      <td>unknown</td>\n",
              "      <td>1</td>\n",
              "    </tr>\n",
              "    <tr>\n",
              "      <th>18</th>\n",
              "      <td>41</td>\n",
              "      <td>admin.</td>\n",
              "      <td>1</td>\n",
              "      <td>secondary</td>\n",
              "      <td>0</td>\n",
              "      <td>55</td>\n",
              "      <td>1</td>\n",
              "      <td>0</td>\n",
              "      <td>unknown</td>\n",
              "      <td>8</td>\n",
              "      <td>may</td>\n",
              "      <td>1120</td>\n",
              "      <td>2</td>\n",
              "      <td>-1</td>\n",
              "      <td>0</td>\n",
              "      <td>unknown</td>\n",
              "      <td>1</td>\n",
              "    </tr>\n",
              "    <tr>\n",
              "      <th>19</th>\n",
              "      <td>49</td>\n",
              "      <td>admin.</td>\n",
              "      <td>2</td>\n",
              "      <td>secondary</td>\n",
              "      <td>0</td>\n",
              "      <td>168</td>\n",
              "      <td>1</td>\n",
              "      <td>1</td>\n",
              "      <td>unknown</td>\n",
              "      <td>8</td>\n",
              "      <td>may</td>\n",
              "      <td>513</td>\n",
              "      <td>1</td>\n",
              "      <td>-1</td>\n",
              "      <td>0</td>\n",
              "      <td>unknown</td>\n",
              "      <td>1</td>\n",
              "    </tr>\n",
              "  </tbody>\n",
              "</table>\n",
              "</div>"
            ],
            "text/plain": [
              "    age          job  marital  education  ...  pdays  previous  poutcome  deposit\n",
              "0    59       admin.        1  secondary  ...     -1         0   unknown        1\n",
              "1    56       admin.        1  secondary  ...     -1         0   unknown        1\n",
              "2    41   technician        1  secondary  ...     -1         0   unknown        1\n",
              "3    55     services        1  secondary  ...     -1         0   unknown        1\n",
              "4    54       admin.        1   tertiary  ...     -1         0   unknown        1\n",
              "5    42   management        0   tertiary  ...     -1         0   unknown        1\n",
              "6    56   management        1   tertiary  ...     -1         0   unknown        1\n",
              "7    60      retired        2  secondary  ...     -1         0   unknown        1\n",
              "8    37   technician        1  secondary  ...     -1         0   unknown        1\n",
              "9    28     services        0  secondary  ...     -1         0   unknown        1\n",
              "10   38       admin.        0  secondary  ...     -1         0   unknown        1\n",
              "11   30  blue-collar        1  secondary  ...     -1         0   unknown        1\n",
              "12   29   management        1   tertiary  ...     -1         0   unknown        1\n",
              "13   46  blue-collar        0   tertiary  ...     -1         0   unknown        1\n",
              "14   31   technician        0   tertiary  ...     -1         0   unknown        1\n",
              "15   35   management        2   tertiary  ...     -1         0   unknown        1\n",
              "16   32  blue-collar        0    primary  ...     -1         0   unknown        1\n",
              "17   49     services        1  secondary  ...     -1         0   unknown        1\n",
              "18   41       admin.        1  secondary  ...     -1         0   unknown        1\n",
              "19   49       admin.        2  secondary  ...     -1         0   unknown        1\n",
              "\n",
              "[20 rows x 17 columns]"
            ]
          },
          "metadata": {},
          "execution_count": 34
        }
      ]
    },
    {
      "cell_type": "code",
      "metadata": {
        "colab": {
          "base_uri": "https://localhost:8080/",
          "height": 769
        },
        "id": "4P7c1OfJWLEu",
        "outputId": "9f904a85-495c-4dda-9abb-f0cabdba3139"
      },
      "source": [
        "def plot_correlation_map( data ):\n",
        "\n",
        "    corr = data.corr()\n",
        "\n",
        "    s , ax = plt.subplots( figsize =( 20 , 16 ) )\n",
        "\n",
        "    cmap = sns.diverging_palette( 220 , 10 , as_cmap = True )\n",
        "\n",
        "    s = sns.heatmap(\n",
        "\n",
        "        corr, \n",
        "\n",
        "        cmap = cmap,\n",
        "\n",
        "        square=True, \n",
        "\n",
        "        cbar_kws={ 'shrink' : .9 }, \n",
        "\n",
        "        ax=ax, \n",
        "\n",
        "        annot = True, \n",
        "\n",
        "        annot_kws = { 'fontsize' : 12 }\n",
        "    )\n",
        "plot_correlation_map(data)"
      ],
      "execution_count": null,
      "outputs": [
        {
          "output_type": "display_data",
          "data": {
            "image/png": "[encoded data removed]",
            "text/plain": [
              "<Figure size 1440x1152 with 2 Axes>"
            ]
          },
          "metadata": {
            "needs_background": "light"
          }
        }
      ]
    },
    {
      "cell_type": "code",
      "metadata": {
        "colab": {
          "base_uri": "https://localhost:8080/",
          "height": 243
        },
        "id": "dANCKk__Wh24",
        "outputId": "02933eda-aeba-40ff-808e-40d41b5f73fc"
      },
      "source": [
        "import matplotlib.pyplot as plt\n",
        "cor=sns.FacetGrid(data,col='deposit')\n",
        "cor.map(plt.hist,'age',bins=20)"
      ],
      "execution_count": null,
      "outputs": [
        {
          "output_type": "execute_result",
          "data": {
            "text/plain": [
              "<seaborn.axisgrid.FacetGrid at 0x7f593a09c490>"
            ]
          },
          "metadata": {},
          "execution_count": 36
        },
        {
          "output_type": "display_data",
          "data": {
            "image/png": "[encoded data removed]",
            "text/plain": [
              "<Figure size 432x216 with 2 Axes>"
            ]
          },
          "metadata": {
            "needs_background": "light"
          }
        }
      ]
    },
    {
      "cell_type": "code",
      "metadata": {
        "colab": {
          "base_uri": "https://localhost:8080/",
          "height": 351
        },
        "id": "hDReZ7x5Wmut",
        "outputId": "4a67346a-4e9d-432d-ff2e-f145cb1b8c2c"
      },
      "source": [
        "sns.distplot(data[\"age\"],bins=10,hist=True,kde=True,color='red')"
      ],
      "execution_count": null,
      "outputs": [
        {
          "output_type": "stream",
          "name": "stderr",
          "text": [
            "/usr/local/lib/python3.7/dist-packages/seaborn/distributions.py:2619: FutureWarning: `distplot` is a deprecated function and will be removed in a future version. Please adapt your code to use either `displot` (a figure-level function with similar flexibility) or `histplot` (an axes-level function for histograms).\n",
            "  warnings.warn(msg, FutureWarning)\n"
          ]
        },
        {
          "output_type": "execute_result",
          "data": {
            "text/plain": [
              "<matplotlib.axes._subplots.AxesSubplot at 0x7f5939e87e10>"
            ]
          },
          "metadata": {},
          "execution_count": 37
        },
        {
          "output_type": "display_data",
          "data": {
            "image/png": "[encoded data removed]",
            "text/plain": [
              "<Figure size 432x288 with 1 Axes>"
            ]
          },
          "metadata": {
            "needs_background": "light"
          }
        }
      ]
    },
    {
      "cell_type": "code",
      "metadata": {
        "colab": {
          "base_uri": "https://localhost:8080/",
          "height": 283
        },
        "id": "HJMdPaioW6y4",
        "outputId": "44f5538b-f0a0-4a44-e97f-cb826632f335"
      },
      "source": [
        "data[\"age\"].plot.box()"
      ],
      "execution_count": null,
      "outputs": [
        {
          "output_type": "execute_result",
          "data": {
            "text/plain": [
              "<matplotlib.axes._subplots.AxesSubplot at 0x7f5939c7bb10>"
            ]
          },
          "metadata": {},
          "execution_count": 38
        },
        {
          "output_type": "display_data",
          "data": {
            "image/png": "[encoded data removed]",
            "text/plain": [
              "<Figure size 432x288 with 1 Axes>"
            ]
          },
          "metadata": {
            "needs_background": "light"
          }
        }
      ]
    },
    {
      "cell_type": "code",
      "metadata": {
        "colab": {
          "base_uri": "https://localhost:8080/",
          "height": 279
        },
        "id": "PQzaPo_MXej9",
        "outputId": "20d057c2-0856-456a-bb1a-a80189ff8f7b"
      },
      "source": [
        "import seaborn as sns\n",
        "ax = sns.countplot(x=data[\"marital\"])"
      ],
      "execution_count": null,
      "outputs": [
        {
          "output_type": "display_data",
          "data": {
            "image/png": "[encoded data removed]",
            "text/plain": [
              "<Figure size 432x288 with 1 Axes>"
            ]
          },
          "metadata": {
            "needs_background": "light"
          }
        }
      ]
    },
    {
      "cell_type": "code",
      "metadata": {
        "colab": {
          "base_uri": "https://localhost:8080/",
          "height": 297
        },
        "id": "dChtBRTrYOyJ",
        "outputId": "8baf5c46-0265-43bd-8503-87ecd93fac61"
      },
      "source": [
        "sns.histplot(x = data['balance'], data = data)\n"
      ],
      "execution_count": null,
      "outputs": [
        {
          "output_type": "execute_result",
          "data": {
            "text/plain": [
              "<matplotlib.axes._subplots.AxesSubplot at 0x7f5939bc43d0>"
            ]
          },
          "metadata": {},
          "execution_count": 40
        },
        {
          "output_type": "display_data",
          "data": {
            "image/png": "[encoded data removed]",
            "text/plain": [
              "<Figure size 432x288 with 1 Axes>"
            ]
          },
          "metadata": {
            "needs_background": "light"
          }
        }
      ]
    },
    {
      "cell_type": "code",
      "metadata": {
        "colab": {
          "base_uri": "https://localhost:8080/",
          "height": 283
        },
        "id": "cv3NYQbOYexP",
        "outputId": "133bb2ec-5414-4769-8c99-b751af20a315"
      },
      "source": [
        "data[\"balance\"].plot.box()"
      ],
      "execution_count": null,
      "outputs": [
        {
          "output_type": "execute_result",
          "data": {
            "text/plain": [
              "<matplotlib.axes._subplots.AxesSubplot at 0x7f5939eefa50>"
            ]
          },
          "metadata": {},
          "execution_count": 41
        },
        {
          "output_type": "display_data",
          "data": {
            "image/png": "[encoded data removed]",
            "text/plain": [
              "<Figure size 432x288 with 1 Axes>"
            ]
          },
          "metadata": {
            "needs_background": "light"
          }
        }
      ]
    },
    {
      "cell_type": "code",
      "metadata": {
        "colab": {
          "base_uri": "https://localhost:8080/",
          "height": 388
        },
        "id": "M20SiwGIYcIf",
        "outputId": "9e11d1b0-293b-4a43-a717-05b678b48a7f"
      },
      "source": [
        "plt.figure(figsize=(14,6))\n",
        "import seaborn as sns\n",
        "ax = sns.countplot(x=data[\"job\"])"
      ],
      "execution_count": null,
      "outputs": [
        {
          "output_type": "display_data",
          "data": {
            "image/png": "[encoded data removed]",
            "text/plain": [
              "<Figure size 1008x432 with 1 Axes>"
            ]
          },
          "metadata": {
            "needs_background": "light"
          }
        }
      ]
    },
    {
      "cell_type": "code",
      "metadata": {
        "colab": {
          "base_uri": "https://localhost:8080/",
          "height": 279
        },
        "id": "vDHfsIL8aEbO",
        "outputId": "327f9749-6b25-4df2-8f57-8c0269a84e4b"
      },
      "source": [
        "ax = sns.countplot(x=data[\"loan\"])"
      ],
      "execution_count": null,
      "outputs": [
        {
          "output_type": "display_data",
          "data": {
            "image/png": "[encoded data removed]",
            "text/plain": [
              "<Figure size 432x288 with 1 Axes>"
            ]
          },
          "metadata": {
            "needs_background": "light"
          }
        }
      ]
    },
    {
      "cell_type": "code",
      "metadata": {
        "colab": {
          "base_uri": "https://localhost:8080/",
          "height": 279
        },
        "id": "70c-FFALaT_P",
        "outputId": "81b64af7-23c8-49c4-dd43-e44175df0214"
      },
      "source": [
        "ax = sns.countplot(x=data[\"default\"])"
      ],
      "execution_count": null,
      "outputs": [
        {
          "output_type": "display_data",
          "data": {
            "image/png": "[encoded data removed]",
            "text/plain": [
              "<Figure size 432x288 with 1 Axes>"
            ]
          },
          "metadata": {
            "needs_background": "light"
          }
        }
      ]
    },
    {
      "cell_type": "code",
      "metadata": {
        "colab": {
          "base_uri": "https://localhost:8080/",
          "height": 243
        },
        "id": "1vR2JT1eahk0",
        "outputId": "167f830e-ab6f-4479-9519-b116968cd346"
      },
      "source": [
        "cor=sns.FacetGrid(data,col='deposit')\n",
        "cor.map(plt.hist,'duration',bins=20)"
      ],
      "execution_count": null,
      "outputs": [
        {
          "output_type": "execute_result",
          "data": {
            "text/plain": [
              "<seaborn.axisgrid.FacetGrid at 0x7f5939f3a250>"
            ]
          },
          "metadata": {},
          "execution_count": 45
        },
        {
          "output_type": "display_data",
          "data": {
            "image/png": "[encoded data removed]",
            "text/plain": [
              "<Figure size 432x216 with 2 Axes>"
            ]
          },
          "metadata": {
            "needs_background": "light"
          }
        }
      ]
    },
    {
      "cell_type": "code",
      "metadata": {
        "colab": {
          "base_uri": "https://localhost:8080/",
          "height": 283
        },
        "id": "_PrIjlndaug_",
        "outputId": "1f5e0f52-6338-4734-9fc7-5faa7089d0a1"
      },
      "source": [
        "data[\"duration\"].plot.box()"
      ],
      "execution_count": null,
      "outputs": [
        {
          "output_type": "execute_result",
          "data": {
            "text/plain": [
              "<matplotlib.axes._subplots.AxesSubplot at 0x7f5937386450>"
            ]
          },
          "metadata": {},
          "execution_count": 46
        },
        {
          "output_type": "display_data",
          "data": {
            "image/png": "[encoded data removed]",
            "text/plain": [
              "<Figure size 432x288 with 1 Axes>"
            ]
          },
          "metadata": {
            "needs_background": "light"
          }
        }
      ]
    },
    {
      "cell_type": "code",
      "metadata": {
        "colab": {
          "base_uri": "https://localhost:8080/",
          "height": 351
        },
        "id": "NBHWcd7Ga1kr",
        "outputId": "45b49b9c-2668-444f-cad5-5828c6a67128"
      },
      "source": [
        "sns.distplot(data[\"duration\"],bins=10,hist=True,kde=True,color='red')"
      ],
      "execution_count": null,
      "outputs": [
        {
          "output_type": "stream",
          "name": "stderr",
          "text": [
            "/usr/local/lib/python3.7/dist-packages/seaborn/distributions.py:2619: FutureWarning: `distplot` is a deprecated function and will be removed in a future version. Please adapt your code to use either `displot` (a figure-level function with similar flexibility) or `histplot` (an axes-level function for histograms).\n",
            "  warnings.warn(msg, FutureWarning)\n"
          ]
        },
        {
          "output_type": "execute_result",
          "data": {
            "text/plain": [
              "<matplotlib.axes._subplots.AxesSubplot at 0x7f5937300250>"
            ]
          },
          "metadata": {},
          "execution_count": 47
        },
        {
          "output_type": "display_data",
          "data": {
            "image/png": "[encoded data removed]",
            "text/plain": [
              "<Figure size 432x288 with 1 Axes>"
            ]
          },
          "metadata": {
            "needs_background": "light"
          }
        }
      ]
    },
    {
      "cell_type": "code",
      "metadata": {
        "colab": {
          "base_uri": "https://localhost:8080/",
          "height": 390
        },
        "id": "tl4dQfwnkgFe",
        "outputId": "7d1fd450-f6f2-465d-9154-52c02fa25fc7"
      },
      "source": [
        "plt.figure(figsize=(12,6))\n",
        "ax = sns.countplot(x=data[\"campaign\"])"
      ],
      "execution_count": null,
      "outputs": [
        {
          "output_type": "display_data",
          "data": {
            "image/png": "[encoded data removed]",
            "text/plain": [
              "<Figure size 864x432 with 1 Axes>"
            ]
          },
          "metadata": {
            "needs_background": "light"
          }
        }
      ]
    },
    {
      "cell_type": "code",
      "metadata": {
        "colab": {
          "base_uri": "https://localhost:8080/",
          "height": 388
        },
        "id": "HXzJLQlgkl_b",
        "outputId": "c1646085-1660-49ee-edf1-e73490e148df"
      },
      "source": [
        "plt.figure(figsize=(12,6))\n",
        "ax = sns.countplot(x=data[\"previous\"])"
      ],
      "execution_count": null,
      "outputs": [
        {
          "output_type": "display_data",
          "data": {
            "image/png": "[encoded data removed]",
            "text/plain": [
              "<Figure size 864x432 with 1 Axes>"
            ]
          },
          "metadata": {
            "needs_background": "light"
          }
        }
      ]
    },
    {
      "cell_type": "code",
      "metadata": {
        "colab": {
          "base_uri": "https://localhost:8080/",
          "height": 279
        },
        "id": "pwRfYUaDkqnq",
        "outputId": "a4af27eb-a138-4d53-98ae-f69986702a42"
      },
      "source": [
        "ax = sns.countplot(x=data[\"poutcome\"])"
      ],
      "execution_count": null,
      "outputs": [
        {
          "output_type": "display_data",
          "data": {
            "image/png": "[encoded data removed]",
            "text/plain": [
              "<Figure size 432x288 with 1 Axes>"
            ]
          },
          "metadata": {
            "needs_background": "light"
          }
        }
      ]
    },
    {
      "cell_type": "code",
      "metadata": {
        "colab": {
          "base_uri": "https://localhost:8080/",
          "height": 388
        },
        "id": "aZ8CkSghnOQf",
        "outputId": "561d0eb8-d127-4cf2-e16d-fd21f95937f6"
      },
      "source": [
        "plt.figure(figsize=(14,6))\n",
        "import seaborn as sns\n",
        "ax = sns.countplot(x=data[\"education\"])"
      ],
      "execution_count": null,
      "outputs": [
        {
          "output_type": "display_data",
          "data": {
            "image/png": "[encoded data removed]",
            "text/plain": [
              "<Figure size 1008x432 with 1 Axes>"
            ]
          },
          "metadata": {
            "needs_background": "light"
          }
        }
      ]
    },
    {
      "cell_type": "code",
      "metadata": {
        "colab": {
          "base_uri": "https://localhost:8080/",
          "height": 226
        },
        "id": "kb0DIexul_zF",
        "outputId": "c4566bad-6ff3-4040-abc4-f7284f3a4847"
      },
      "source": [
        "from sklearn.preprocessing import LabelEncoder\n",
        "encoder=LabelEncoder()\n",
        "data['poutcome']=encoder.fit_transform(data[\"poutcome\"])\n",
        "data.head()"
      ],
      "execution_count": null,
      "outputs": [
        {
          "output_type": "execute_result",
          "data": {
            "text/html": [
              "<div>\n",
              "<style scoped>\n",
              "    .dataframe tbody tr th:only-of-type {\n",
              "        vertical-align: middle;\n",
              "    }\n",
              "\n",
              "    .dataframe tbody tr th {\n",
              "        vertical-align: top;\n",
              "    }\n",
              "\n",
              "    .dataframe thead th {\n",
              "        text-align: right;\n",
              "    }\n",
              "</style>\n",
              "<table border=\"1\" class=\"dataframe\">\n",
              "  <thead>\n",
              "    <tr style=\"text-align: right;\">\n",
              "      <th></th>\n",
              "      <th>age</th>\n",
              "      <th>job</th>\n",
              "      <th>marital</th>\n",
              "      <th>education</th>\n",
              "      <th>default</th>\n",
              "      <th>balance</th>\n",
              "      <th>housing</th>\n",
              "      <th>loan</th>\n",
              "      <th>contact</th>\n",
              "      <th>day</th>\n",
              "      <th>month</th>\n",
              "      <th>duration</th>\n",
              "      <th>campaign</th>\n",
              "      <th>pdays</th>\n",
              "      <th>previous</th>\n",
              "      <th>poutcome</th>\n",
              "      <th>deposit</th>\n",
              "    </tr>\n",
              "  </thead>\n",
              "  <tbody>\n",
              "    <tr>\n",
              "      <th>0</th>\n",
              "      <td>59</td>\n",
              "      <td>admin.</td>\n",
              "      <td>1</td>\n",
              "      <td>secondary</td>\n",
              "      <td>0</td>\n",
              "      <td>2343</td>\n",
              "      <td>1</td>\n",
              "      <td>0</td>\n",
              "      <td>unknown</td>\n",
              "      <td>5</td>\n",
              "      <td>may</td>\n",
              "      <td>1042</td>\n",
              "      <td>1</td>\n",
              "      <td>-1</td>\n",
              "      <td>0</td>\n",
              "      <td>3</td>\n",
              "      <td>1</td>\n",
              "    </tr>\n",
              "    <tr>\n",
              "      <th>1</th>\n",
              "      <td>56</td>\n",
              "      <td>admin.</td>\n",
              "      <td>1</td>\n",
              "      <td>secondary</td>\n",
              "      <td>0</td>\n",
              "      <td>45</td>\n",
              "      <td>0</td>\n",
              "      <td>0</td>\n",
              "      <td>unknown</td>\n",
              "      <td>5</td>\n",
              "      <td>may</td>\n",
              "      <td>1467</td>\n",
              "      <td>1</td>\n",
              "      <td>-1</td>\n",
              "      <td>0</td>\n",
              "      <td>3</td>\n",
              "      <td>1</td>\n",
              "    </tr>\n",
              "    <tr>\n",
              "      <th>2</th>\n",
              "      <td>41</td>\n",
              "      <td>technician</td>\n",
              "      <td>1</td>\n",
              "      <td>secondary</td>\n",
              "      <td>0</td>\n",
              "      <td>1270</td>\n",
              "      <td>1</td>\n",
              "      <td>0</td>\n",
              "      <td>unknown</td>\n",
              "      <td>5</td>\n",
              "      <td>may</td>\n",
              "      <td>1389</td>\n",
              "      <td>1</td>\n",
              "      <td>-1</td>\n",
              "      <td>0</td>\n",
              "      <td>3</td>\n",
              "      <td>1</td>\n",
              "    </tr>\n",
              "    <tr>\n",
              "      <th>3</th>\n",
              "      <td>55</td>\n",
              "      <td>services</td>\n",
              "      <td>1</td>\n",
              "      <td>secondary</td>\n",
              "      <td>0</td>\n",
              "      <td>2476</td>\n",
              "      <td>1</td>\n",
              "      <td>0</td>\n",
              "      <td>unknown</td>\n",
              "      <td>5</td>\n",
              "      <td>may</td>\n",
              "      <td>579</td>\n",
              "      <td>1</td>\n",
              "      <td>-1</td>\n",
              "      <td>0</td>\n",
              "      <td>3</td>\n",
              "      <td>1</td>\n",
              "    </tr>\n",
              "    <tr>\n",
              "      <th>4</th>\n",
              "      <td>54</td>\n",
              "      <td>admin.</td>\n",
              "      <td>1</td>\n",
              "      <td>tertiary</td>\n",
              "      <td>0</td>\n",
              "      <td>184</td>\n",
              "      <td>0</td>\n",
              "      <td>0</td>\n",
              "      <td>unknown</td>\n",
              "      <td>5</td>\n",
              "      <td>may</td>\n",
              "      <td>673</td>\n",
              "      <td>2</td>\n",
              "      <td>-1</td>\n",
              "      <td>0</td>\n",
              "      <td>3</td>\n",
              "      <td>1</td>\n",
              "    </tr>\n",
              "  </tbody>\n",
              "</table>\n",
              "</div>"
            ],
            "text/plain": [
              "   age         job  marital  education  ...  pdays  previous  poutcome  deposit\n",
              "0   59      admin.        1  secondary  ...     -1         0         3        1\n",
              "1   56      admin.        1  secondary  ...     -1         0         3        1\n",
              "2   41  technician        1  secondary  ...     -1         0         3        1\n",
              "3   55    services        1  secondary  ...     -1         0         3        1\n",
              "4   54      admin.        1   tertiary  ...     -1         0         3        1\n",
              "\n",
              "[5 rows x 17 columns]"
            ]
          },
          "metadata": {},
          "execution_count": 52
        }
      ]
    },
    {
      "cell_type": "code",
      "metadata": {
        "id": "3jNc-6tBnaBw"
      },
      "source": [
        "encoder=LabelEncoder()\n",
        "data['job']=encoder.fit_transform(data[\"job\"])"
      ],
      "execution_count": null,
      "outputs": []
    },
    {
      "cell_type": "code",
      "metadata": {
        "id": "py2Fvra1j-im"
      },
      "source": [
        "x = data[['age',\t'marital'\t,'default',\t'balance',\t'housing',\t'loan',\t'duration',\t'campaign',\t'pdays',\t'previous',\t'poutcome']]\n",
        "y = data['deposit']"
      ],
      "execution_count": null,
      "outputs": []
    },
    {
      "cell_type": "code",
      "metadata": {
        "colab": {
          "base_uri": "https://localhost:8080/"
        },
        "id": "4yIfEekXogRm",
        "outputId": "0da4a80d-547c-4564-f849-44dc71e4443e"
      },
      "source": [
        "import tensorflow as tf\n",
        "from tensorflow import keras\n",
        "from keras.layers import Dense \n",
        "from keras.layers import Dropout\n",
        "from sklearn.model_selection import train_test_split\n",
        "#splitting data\n",
        "X_train, X_test, y_train,y_test = train_test_split(x, y, test_size = 0.1)\n",
        "X_model, X_valid, y_model, y_valid = train_test_split(X_train, y_train, test_size = 0.2)\n",
        "\n",
        "model = keras.Sequential([\n",
        "    keras.layers.Dense(128, activation='relu')\n",
        "])\n",
        "model.add(Dense(128, input_dim=128, activation='relu'))\n",
        "model.add(Dropout(0.2))\n",
        "model.add(Dense(1, input_dim=128, activation='sigmoid'))\n",
        "\n",
        "model.compile(optimizer='adam',\n",
        "              loss='binary_crossentropy',\n",
        "              metrics=['accuracy'])\n",
        "y_pred = model.predict(X_test)\n",
        "from keras.callbacks import EarlyStopping\n",
        "# Set callback functions to early stop training \n",
        "mycallbacks = [EarlyStopping(monitor='val_loss', patience=15)]\n",
        "model.fit(X_model, y_model, validation_data=(X_valid, y_valid), epochs= 100,  callbacks = mycallbacks)"
      ],
      "execution_count": null,
      "outputs": [
        {
          "output_type": "stream",
          "name": "stdout",
          "text": [
            "Epoch 1/100\n",
            "252/252 [==============================] - 1s 4ms/step - loss: 10.2820 - accuracy: 0.6117 - val_loss: 0.7120 - val_accuracy: 0.6745\n",
            "Epoch 2/100\n",
            "252/252 [==============================] - 1s 2ms/step - loss: 0.8289 - accuracy: 0.6702 - val_loss: 0.5474 - val_accuracy: 0.7242\n",
            "Epoch 3/100\n",
            "252/252 [==============================] - 1s 2ms/step - loss: 0.6117 - accuracy: 0.7118 - val_loss: 0.5432 - val_accuracy: 0.7446\n",
            "Epoch 4/100\n",
            "252/252 [==============================] - 1s 3ms/step - loss: 0.5700 - accuracy: 0.7278 - val_loss: 0.5252 - val_accuracy: 0.7541\n",
            "Epoch 5/100\n",
            "252/252 [==============================] - 1s 3ms/step - loss: 0.5612 - accuracy: 0.7336 - val_loss: 0.5300 - val_accuracy: 0.7466\n",
            "Epoch 6/100\n",
            "252/252 [==============================] - 1s 2ms/step - loss: 0.5706 - accuracy: 0.7239 - val_loss: 0.5403 - val_accuracy: 0.7437\n",
            "Epoch 7/100\n",
            "252/252 [==============================] - 1s 3ms/step - loss: 0.5473 - accuracy: 0.7332 - val_loss: 0.5141 - val_accuracy: 0.7556\n",
            "Epoch 8/100\n",
            "252/252 [==============================] - 1s 3ms/step - loss: 0.5455 - accuracy: 0.7351 - val_loss: 0.5141 - val_accuracy: 0.7546\n",
            "Epoch 9/100\n",
            "252/252 [==============================] - 1s 3ms/step - loss: 0.5664 - accuracy: 0.7287 - val_loss: 0.5477 - val_accuracy: 0.7352\n",
            "Epoch 10/100\n",
            "252/252 [==============================] - 1s 3ms/step - loss: 0.5558 - accuracy: 0.7269 - val_loss: 0.5143 - val_accuracy: 0.7566\n",
            "Epoch 11/100\n",
            "252/252 [==============================] - 1s 3ms/step - loss: 0.5425 - accuracy: 0.7373 - val_loss: 0.5258 - val_accuracy: 0.7561\n",
            "Epoch 12/100\n",
            "252/252 [==============================] - 1s 2ms/step - loss: 0.5583 - accuracy: 0.7298 - val_loss: 0.5164 - val_accuracy: 0.7626\n",
            "Epoch 13/100\n",
            "252/252 [==============================] - 1s 2ms/step - loss: 0.5455 - accuracy: 0.7379 - val_loss: 0.5441 - val_accuracy: 0.7208\n",
            "Epoch 14/100\n",
            "252/252 [==============================] - 1s 2ms/step - loss: 0.5445 - accuracy: 0.7332 - val_loss: 0.5236 - val_accuracy: 0.7551\n",
            "Epoch 15/100\n",
            "252/252 [==============================] - 1s 3ms/step - loss: 0.5377 - accuracy: 0.7451 - val_loss: 0.5345 - val_accuracy: 0.7198\n",
            "Epoch 16/100\n",
            "252/252 [==============================] - 1s 3ms/step - loss: 0.5458 - accuracy: 0.7300 - val_loss: 0.5084 - val_accuracy: 0.7641\n",
            "Epoch 17/100\n",
            "252/252 [==============================] - 1s 2ms/step - loss: 0.5393 - accuracy: 0.7349 - val_loss: 0.5170 - val_accuracy: 0.7551\n",
            "Epoch 18/100\n",
            "252/252 [==============================] - 1s 2ms/step - loss: 0.5353 - accuracy: 0.7434 - val_loss: 0.5210 - val_accuracy: 0.7621\n",
            "Epoch 19/100\n",
            "252/252 [==============================] - 1s 2ms/step - loss: 0.5357 - accuracy: 0.7413 - val_loss: 0.4993 - val_accuracy: 0.7680\n",
            "Epoch 20/100\n",
            "252/252 [==============================] - 1s 3ms/step - loss: 0.5361 - accuracy: 0.7486 - val_loss: 0.5050 - val_accuracy: 0.7656\n",
            "Epoch 21/100\n",
            "252/252 [==============================] - 1s 3ms/step - loss: 0.5298 - accuracy: 0.7463 - val_loss: 0.5084 - val_accuracy: 0.7611\n",
            "Epoch 22/100\n",
            "252/252 [==============================] - 1s 3ms/step - loss: 0.5288 - accuracy: 0.7448 - val_loss: 0.5030 - val_accuracy: 0.7675\n",
            "Epoch 23/100\n",
            "252/252 [==============================] - 1s 3ms/step - loss: 0.5210 - accuracy: 0.7496 - val_loss: 0.5313 - val_accuracy: 0.7646\n",
            "Epoch 24/100\n",
            "252/252 [==============================] - 1s 2ms/step - loss: 0.5306 - accuracy: 0.7507 - val_loss: 0.5284 - val_accuracy: 0.7690\n",
            "Epoch 25/100\n",
            "252/252 [==============================] - 1s 2ms/step - loss: 0.5319 - accuracy: 0.7471 - val_loss: 0.5271 - val_accuracy: 0.7735\n",
            "Epoch 26/100\n",
            "252/252 [==============================] - 1s 2ms/step - loss: 0.5254 - accuracy: 0.7451 - val_loss: 0.5033 - val_accuracy: 0.7735\n",
            "Epoch 27/100\n",
            "252/252 [==============================] - 1s 2ms/step - loss: 0.5306 - accuracy: 0.7455 - val_loss: 0.5003 - val_accuracy: 0.7695\n",
            "Epoch 28/100\n",
            "252/252 [==============================] - 1s 3ms/step - loss: 0.5396 - accuracy: 0.7434 - val_loss: 0.5222 - val_accuracy: 0.7651\n",
            "Epoch 29/100\n",
            "252/252 [==============================] - 1s 2ms/step - loss: 0.5304 - accuracy: 0.7489 - val_loss: 0.5031 - val_accuracy: 0.7760\n",
            "Epoch 30/100\n",
            "252/252 [==============================] - 1s 2ms/step - loss: 0.5234 - accuracy: 0.7522 - val_loss: 0.4897 - val_accuracy: 0.7646\n",
            "Epoch 31/100\n",
            "252/252 [==============================] - 1s 2ms/step - loss: 0.5218 - accuracy: 0.7614 - val_loss: 0.5113 - val_accuracy: 0.7760\n",
            "Epoch 32/100\n",
            "252/252 [==============================] - 1s 2ms/step - loss: 0.5318 - accuracy: 0.7459 - val_loss: 0.5341 - val_accuracy: 0.7362\n",
            "Epoch 33/100\n",
            "252/252 [==============================] - 1s 2ms/step - loss: 0.5321 - accuracy: 0.7540 - val_loss: 0.4828 - val_accuracy: 0.7760\n",
            "Epoch 34/100\n",
            "252/252 [==============================] - 1s 2ms/step - loss: 0.5260 - accuracy: 0.7511 - val_loss: 0.4968 - val_accuracy: 0.7670\n",
            "Epoch 35/100\n",
            "252/252 [==============================] - 1s 3ms/step - loss: 0.5218 - accuracy: 0.7570 - val_loss: 0.4907 - val_accuracy: 0.7700\n",
            "Epoch 36/100\n",
            "252/252 [==============================] - 1s 3ms/step - loss: 0.5169 - accuracy: 0.7549 - val_loss: 0.4889 - val_accuracy: 0.7795\n",
            "Epoch 37/100\n",
            "252/252 [==============================] - 1s 3ms/step - loss: 0.5224 - accuracy: 0.7562 - val_loss: 0.5078 - val_accuracy: 0.7755\n",
            "Epoch 38/100\n",
            "252/252 [==============================] - 1s 2ms/step - loss: 0.5296 - accuracy: 0.7521 - val_loss: 0.5020 - val_accuracy: 0.7586\n",
            "Epoch 39/100\n",
            "252/252 [==============================] - 1s 3ms/step - loss: 0.5181 - accuracy: 0.7524 - val_loss: 0.4936 - val_accuracy: 0.7820\n",
            "Epoch 40/100\n",
            "252/252 [==============================] - 1s 3ms/step - loss: 0.5126 - accuracy: 0.7560 - val_loss: 0.4926 - val_accuracy: 0.7685\n",
            "Epoch 41/100\n",
            "252/252 [==============================] - 1s 3ms/step - loss: 0.5217 - accuracy: 0.7558 - val_loss: 0.5032 - val_accuracy: 0.7616\n",
            "Epoch 42/100\n",
            "252/252 [==============================] - 1s 3ms/step - loss: 0.5106 - accuracy: 0.7580 - val_loss: 0.4784 - val_accuracy: 0.7835\n",
            "Epoch 43/100\n",
            "252/252 [==============================] - 1s 3ms/step - loss: 0.5118 - accuracy: 0.7575 - val_loss: 0.4874 - val_accuracy: 0.7840\n",
            "Epoch 44/100\n",
            "252/252 [==============================] - 1s 2ms/step - loss: 0.5042 - accuracy: 0.7646 - val_loss: 0.4740 - val_accuracy: 0.7830\n",
            "Epoch 45/100\n",
            "252/252 [==============================] - 1s 2ms/step - loss: 0.4979 - accuracy: 0.7720 - val_loss: 0.4776 - val_accuracy: 0.7725\n",
            "Epoch 46/100\n",
            "252/252 [==============================] - 1s 2ms/step - loss: 0.4987 - accuracy: 0.7632 - val_loss: 0.4867 - val_accuracy: 0.7695\n",
            "Epoch 47/100\n",
            "252/252 [==============================] - 1s 2ms/step - loss: 0.4964 - accuracy: 0.7680 - val_loss: 0.4687 - val_accuracy: 0.7875\n",
            "Epoch 48/100\n",
            "252/252 [==============================] - 1s 3ms/step - loss: 0.4895 - accuracy: 0.7670 - val_loss: 0.4667 - val_accuracy: 0.7750\n",
            "Epoch 49/100\n",
            "252/252 [==============================] - 1s 2ms/step - loss: 0.4973 - accuracy: 0.7685 - val_loss: 0.4809 - val_accuracy: 0.7850\n",
            "Epoch 50/100\n",
            "252/252 [==============================] - 1s 3ms/step - loss: 0.4933 - accuracy: 0.7741 - val_loss: 0.4591 - val_accuracy: 0.7820\n",
            "Epoch 51/100\n",
            "252/252 [==============================] - 1s 2ms/step - loss: 0.4922 - accuracy: 0.7677 - val_loss: 0.4721 - val_accuracy: 0.7780\n",
            "Epoch 52/100\n",
            "252/252 [==============================] - 1s 3ms/step - loss: 0.4948 - accuracy: 0.7775 - val_loss: 0.4789 - val_accuracy: 0.7820\n",
            "Epoch 53/100\n",
            "252/252 [==============================] - 1s 2ms/step - loss: 0.4906 - accuracy: 0.7713 - val_loss: 0.4769 - val_accuracy: 0.7850\n",
            "Epoch 54/100\n",
            "252/252 [==============================] - 1s 2ms/step - loss: 0.4930 - accuracy: 0.7705 - val_loss: 0.4760 - val_accuracy: 0.7840\n",
            "Epoch 55/100\n",
            "252/252 [==============================] - 1s 2ms/step - loss: 0.4967 - accuracy: 0.7758 - val_loss: 0.4627 - val_accuracy: 0.7860\n",
            "Epoch 56/100\n",
            "252/252 [==============================] - 1s 2ms/step - loss: 0.4846 - accuracy: 0.7770 - val_loss: 0.4612 - val_accuracy: 0.7815\n",
            "Epoch 57/100\n",
            "252/252 [==============================] - 1s 3ms/step - loss: 0.4852 - accuracy: 0.7780 - val_loss: 0.4818 - val_accuracy: 0.7651\n",
            "Epoch 58/100\n",
            "252/252 [==============================] - 1s 3ms/step - loss: 0.4924 - accuracy: 0.7715 - val_loss: 0.4561 - val_accuracy: 0.7840\n",
            "Epoch 59/100\n",
            "252/252 [==============================] - 1s 3ms/step - loss: 0.5098 - accuracy: 0.7740 - val_loss: 0.4581 - val_accuracy: 0.7889\n",
            "Epoch 60/100\n",
            "252/252 [==============================] - 1s 2ms/step - loss: 0.4837 - accuracy: 0.7759 - val_loss: 0.4718 - val_accuracy: 0.7840\n",
            "Epoch 61/100\n",
            "252/252 [==============================] - 1s 3ms/step - loss: 0.4915 - accuracy: 0.7759 - val_loss: 0.4546 - val_accuracy: 0.7840\n",
            "Epoch 62/100\n",
            "252/252 [==============================] - 1s 2ms/step - loss: 0.4784 - accuracy: 0.7841 - val_loss: 0.4505 - val_accuracy: 0.7909\n",
            "Epoch 63/100\n",
            "252/252 [==============================] - 1s 2ms/step - loss: 0.4773 - accuracy: 0.7822 - val_loss: 0.4502 - val_accuracy: 0.7820\n",
            "Epoch 64/100\n",
            "252/252 [==============================] - 1s 2ms/step - loss: 0.4757 - accuracy: 0.7824 - val_loss: 0.4504 - val_accuracy: 0.7929\n",
            "Epoch 65/100\n",
            "252/252 [==============================] - 1s 3ms/step - loss: 0.4842 - accuracy: 0.7817 - val_loss: 0.4804 - val_accuracy: 0.7516\n",
            "Epoch 66/100\n",
            "252/252 [==============================] - 1s 3ms/step - loss: 0.4769 - accuracy: 0.7801 - val_loss: 0.4645 - val_accuracy: 0.7720\n",
            "Epoch 67/100\n",
            "252/252 [==============================] - 1s 3ms/step - loss: 0.4733 - accuracy: 0.7799 - val_loss: 0.4626 - val_accuracy: 0.7760\n",
            "Epoch 68/100\n",
            "252/252 [==============================] - 1s 2ms/step - loss: 0.4718 - accuracy: 0.7846 - val_loss: 0.4550 - val_accuracy: 0.7840\n",
            "Epoch 69/100\n",
            "252/252 [==============================] - 1s 3ms/step - loss: 0.4722 - accuracy: 0.7838 - val_loss: 0.4731 - val_accuracy: 0.7636\n",
            "Epoch 70/100\n",
            "252/252 [==============================] - 1s 3ms/step - loss: 0.4718 - accuracy: 0.7784 - val_loss: 0.4546 - val_accuracy: 0.7860\n",
            "Epoch 71/100\n",
            "252/252 [==============================] - 1s 3ms/step - loss: 0.4775 - accuracy: 0.7826 - val_loss: 0.4558 - val_accuracy: 0.7825\n",
            "Epoch 72/100\n",
            "252/252 [==============================] - 1s 2ms/step - loss: 0.4718 - accuracy: 0.7832 - val_loss: 0.4450 - val_accuracy: 0.7909\n",
            "Epoch 73/100\n",
            "252/252 [==============================] - 1s 2ms/step - loss: 0.4745 - accuracy: 0.7809 - val_loss: 0.4439 - val_accuracy: 0.7860\n",
            "Epoch 74/100\n",
            "252/252 [==============================] - 1s 2ms/step - loss: 0.4686 - accuracy: 0.7907 - val_loss: 0.4674 - val_accuracy: 0.7810\n",
            "Epoch 75/100\n",
            "252/252 [==============================] - 1s 2ms/step - loss: 0.4679 - accuracy: 0.7857 - val_loss: 0.4435 - val_accuracy: 0.7865\n",
            "Epoch 76/100\n",
            "252/252 [==============================] - 1s 2ms/step - loss: 0.4641 - accuracy: 0.7907 - val_loss: 0.4544 - val_accuracy: 0.7800\n",
            "Epoch 77/100\n",
            "252/252 [==============================] - 1s 2ms/step - loss: 0.4744 - accuracy: 0.7779 - val_loss: 0.4557 - val_accuracy: 0.7885\n",
            "Epoch 78/100\n",
            "252/252 [==============================] - 1s 2ms/step - loss: 0.4693 - accuracy: 0.7882 - val_loss: 0.4812 - val_accuracy: 0.7830\n",
            "Epoch 79/100\n",
            "252/252 [==============================] - 1s 3ms/step - loss: 0.4733 - accuracy: 0.7833 - val_loss: 0.4554 - val_accuracy: 0.7855\n",
            "Epoch 80/100\n",
            "252/252 [==============================] - 1s 3ms/step - loss: 0.4627 - accuracy: 0.7877 - val_loss: 0.4545 - val_accuracy: 0.7974\n",
            "Epoch 81/100\n",
            "252/252 [==============================] - 1s 2ms/step - loss: 0.4649 - accuracy: 0.7875 - val_loss: 0.4701 - val_accuracy: 0.7760\n",
            "Epoch 82/100\n",
            "252/252 [==============================] - 1s 3ms/step - loss: 0.4631 - accuracy: 0.7846 - val_loss: 0.4512 - val_accuracy: 0.7929\n",
            "Epoch 83/100\n",
            "252/252 [==============================] - 1s 2ms/step - loss: 0.4628 - accuracy: 0.7882 - val_loss: 0.4700 - val_accuracy: 0.7855\n",
            "Epoch 84/100\n",
            "252/252 [==============================] - 1s 3ms/step - loss: 0.4710 - accuracy: 0.7870 - val_loss: 0.4476 - val_accuracy: 0.7924\n",
            "Epoch 85/100\n",
            "252/252 [==============================] - 1s 3ms/step - loss: 0.4631 - accuracy: 0.7857 - val_loss: 0.4668 - val_accuracy: 0.7825\n",
            "Epoch 86/100\n",
            "252/252 [==============================] - 1s 2ms/step - loss: 0.4716 - accuracy: 0.7880 - val_loss: 0.4694 - val_accuracy: 0.7880\n",
            "Epoch 87/100\n",
            "252/252 [==============================] - 1s 2ms/step - loss: 0.4613 - accuracy: 0.7926 - val_loss: 0.4473 - val_accuracy: 0.7934\n",
            "Epoch 88/100\n",
            "252/252 [==============================] - 1s 2ms/step - loss: 0.4614 - accuracy: 0.7865 - val_loss: 0.4650 - val_accuracy: 0.7850\n",
            "Epoch 89/100\n",
            "252/252 [==============================] - 1s 3ms/step - loss: 0.4641 - accuracy: 0.7896 - val_loss: 0.4448 - val_accuracy: 0.7875\n",
            "Epoch 90/100\n",
            "252/252 [==============================] - 1s 2ms/step - loss: 0.4623 - accuracy: 0.7899 - val_loss: 0.4353 - val_accuracy: 0.7974\n",
            "Epoch 91/100\n",
            "252/252 [==============================] - 1s 2ms/step - loss: 0.4663 - accuracy: 0.7853 - val_loss: 0.4381 - val_accuracy: 0.7875\n",
            "Epoch 92/100\n",
            "252/252 [==============================] - 1s 2ms/step - loss: 0.4596 - accuracy: 0.7880 - val_loss: 0.4462 - val_accuracy: 0.7909\n",
            "Epoch 93/100\n",
            "252/252 [==============================] - 1s 2ms/step - loss: 0.4597 - accuracy: 0.7877 - val_loss: 0.4398 - val_accuracy: 0.7889\n",
            "Epoch 94/100\n",
            "252/252 [==============================] - 1s 3ms/step - loss: 0.4616 - accuracy: 0.7891 - val_loss: 0.4418 - val_accuracy: 0.7894\n",
            "Epoch 95/100\n",
            "252/252 [==============================] - 1s 2ms/step - loss: 0.4594 - accuracy: 0.7952 - val_loss: 0.4482 - val_accuracy: 0.7870\n",
            "Epoch 96/100\n",
            "252/252 [==============================] - 1s 2ms/step - loss: 0.4680 - accuracy: 0.7868 - val_loss: 0.4438 - val_accuracy: 0.7894\n",
            "Epoch 97/100\n",
            "252/252 [==============================] - 1s 3ms/step - loss: 0.4569 - accuracy: 0.7923 - val_loss: 0.4542 - val_accuracy: 0.7875\n",
            "Epoch 98/100\n",
            "252/252 [==============================] - 1s 3ms/step - loss: 0.4603 - accuracy: 0.7908 - val_loss: 0.4346 - val_accuracy: 0.7889\n",
            "Epoch 99/100\n",
            "252/252 [==============================] - 1s 2ms/step - loss: 0.4538 - accuracy: 0.7926 - val_loss: 0.4415 - val_accuracy: 0.7870\n",
            "Epoch 100/100\n",
            "252/252 [==============================] - 1s 3ms/step - loss: 0.4564 - accuracy: 0.7927 - val_loss: 0.4427 - val_accuracy: 0.7889\n"
          ]
        },
        {
          "output_type": "execute_result",
          "data": {
            "text/plain": [
              "<keras.callbacks.History at 0x7f591e1b2d90>"
            ]
          },
          "metadata": {},
          "execution_count": 71
        }
      ]
    },
    {
      "cell_type": "code",
      "metadata": {
        "colab": {
          "base_uri": "https://localhost:8080/"
        },
        "id": "qypQICIpp61E",
        "outputId": "ae67446c-6b16-429c-c045-781dc4cfb06b"
      },
      "source": [
        "model.evaluate(X_valid,y_valid)"
      ],
      "execution_count": null,
      "outputs": [
        {
          "output_type": "stream",
          "name": "stdout",
          "text": [
            "63/63 [==============================] - 0s 1ms/step - loss: 0.4427 - accuracy: 0.7889\n"
          ]
        },
        {
          "output_type": "execute_result",
          "data": {
            "text/plain": [
              "[0.442740261554718, 0.788949728012085]"
            ]
          },
          "metadata": {},
          "execution_count": 72
        }
      ]
    },
    {
      "cell_type": "code",
      "metadata": {
        "colab": {
          "base_uri": "https://localhost:8080/"
        },
        "id": "72kKqZHkEn8n",
        "outputId": "9166e579-adc1-4d55-dd77-cb6e37dd267e"
      },
      "source": [
        "model.summary()"
      ],
      "execution_count": null,
      "outputs": [
        {
          "output_type": "stream",
          "name": "stdout",
          "text": [
            "Model: \"sequential_13\"\n",
            "_________________________________________________________________\n",
            " Layer (type)                Output Shape              Param #   \n",
            "=================================================================\n",
            " dense_40 (Dense)            (None, 128)               1536      \n",
            "                                                                 \n",
            " dense_41 (Dense)            (None, 128)               16512     \n",
            "                                                                 \n",
            " dropout_12 (Dropout)        (None, 128)               0         \n",
            "                                                                 \n",
            " dense_42 (Dense)            (None, 1)                 129       \n",
            "                                                                 \n",
            "=================================================================\n",
            "Total params: 18,177\n",
            "Trainable params: 18,177\n",
            "Non-trainable params: 0\n",
            "_________________________________________________________________\n"
          ]
        }
      ]
    }
  ]
}